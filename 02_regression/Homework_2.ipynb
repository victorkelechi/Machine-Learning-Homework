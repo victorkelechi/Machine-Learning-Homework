{
 "cells": [
  {
   "cell_type": "markdown",
   "id": "e045bace",
   "metadata": {},
   "source": [
    "## Homework 2 \n",
    "### Car Fuel Efficiency Prediction\n"
   ]
  },
  {
   "cell_type": "code",
   "execution_count": 80,
   "id": "f42ad84e",
   "metadata": {},
   "outputs": [],
   "source": [
    "# Import libraries\n",
    "import pandas as pd\n",
    "import numpy as np\n",
    "import seaborn as sns\n",
    "from matplotlib import pyplot as plt\n",
    "%matplotlib inline"
   ]
  },
  {
   "cell_type": "code",
   "execution_count": 81,
   "metadata": {},
   "outputs": [
    {
     "data": {
      "text/html": [
       "<div>\n",
       "<style scoped>\n",
       "    .dataframe tbody tr th:only-of-type {\n",
       "        vertical-align: middle;\n",
       "    }\n",
       "\n",
       "    .dataframe tbody tr th {\n",
       "        vertical-align: top;\n",
       "    }\n",
       "\n",
       "    .dataframe thead th {\n",
       "        text-align: right;\n",
       "    }\n",
       "</style>\n",
       "<table border=\"1\" class=\"dataframe\">\n",
       "  <thead>\n",
       "    <tr style=\"text-align: right;\">\n",
       "      <th></th>\n",
       "      <th>engine_displacement</th>\n",
       "      <th>num_cylinders</th>\n",
       "      <th>horsepower</th>\n",
       "      <th>vehicle_weight</th>\n",
       "      <th>acceleration</th>\n",
       "      <th>model_year</th>\n",
       "      <th>origin</th>\n",
       "      <th>fuel_type</th>\n",
       "      <th>drivetrain</th>\n",
       "      <th>num_doors</th>\n",
       "      <th>fuel_efficiency_mpg</th>\n",
       "    </tr>\n",
       "  </thead>\n",
       "  <tbody>\n",
       "    <tr>\n",
       "      <th>0</th>\n",
       "      <td>170</td>\n",
       "      <td>3.0</td>\n",
       "      <td>159.0</td>\n",
       "      <td>3413.433759</td>\n",
       "      <td>17.7</td>\n",
       "      <td>2003</td>\n",
       "      <td>Europe</td>\n",
       "      <td>Gasoline</td>\n",
       "      <td>All-wheel drive</td>\n",
       "      <td>0.0</td>\n",
       "      <td>13.231729</td>\n",
       "    </tr>\n",
       "    <tr>\n",
       "      <th>1</th>\n",
       "      <td>130</td>\n",
       "      <td>5.0</td>\n",
       "      <td>97.0</td>\n",
       "      <td>3149.664934</td>\n",
       "      <td>17.8</td>\n",
       "      <td>2007</td>\n",
       "      <td>USA</td>\n",
       "      <td>Gasoline</td>\n",
       "      <td>Front-wheel drive</td>\n",
       "      <td>0.0</td>\n",
       "      <td>13.688217</td>\n",
       "    </tr>\n",
       "    <tr>\n",
       "      <th>2</th>\n",
       "      <td>170</td>\n",
       "      <td>NaN</td>\n",
       "      <td>78.0</td>\n",
       "      <td>3079.038997</td>\n",
       "      <td>15.1</td>\n",
       "      <td>2018</td>\n",
       "      <td>Europe</td>\n",
       "      <td>Gasoline</td>\n",
       "      <td>Front-wheel drive</td>\n",
       "      <td>0.0</td>\n",
       "      <td>14.246341</td>\n",
       "    </tr>\n",
       "    <tr>\n",
       "      <th>3</th>\n",
       "      <td>220</td>\n",
       "      <td>4.0</td>\n",
       "      <td>NaN</td>\n",
       "      <td>2542.392402</td>\n",
       "      <td>20.2</td>\n",
       "      <td>2009</td>\n",
       "      <td>USA</td>\n",
       "      <td>Diesel</td>\n",
       "      <td>All-wheel drive</td>\n",
       "      <td>2.0</td>\n",
       "      <td>16.912736</td>\n",
       "    </tr>\n",
       "    <tr>\n",
       "      <th>4</th>\n",
       "      <td>210</td>\n",
       "      <td>1.0</td>\n",
       "      <td>140.0</td>\n",
       "      <td>3460.870990</td>\n",
       "      <td>14.4</td>\n",
       "      <td>2009</td>\n",
       "      <td>Europe</td>\n",
       "      <td>Gasoline</td>\n",
       "      <td>All-wheel drive</td>\n",
       "      <td>2.0</td>\n",
       "      <td>12.488369</td>\n",
       "    </tr>\n",
       "  </tbody>\n",
       "</table>\n",
       "</div>"
      ],
      "text/plain": [
       "   engine_displacement  num_cylinders  horsepower  vehicle_weight  \\\n",
       "0                  170            3.0       159.0     3413.433759   \n",
       "1                  130            5.0        97.0     3149.664934   \n",
       "2                  170            NaN        78.0     3079.038997   \n",
       "3                  220            4.0         NaN     2542.392402   \n",
       "4                  210            1.0       140.0     3460.870990   \n",
       "\n",
       "   acceleration  model_year  origin fuel_type         drivetrain  num_doors  \\\n",
       "0          17.7        2003  Europe  Gasoline    All-wheel drive        0.0   \n",
       "1          17.8        2007     USA  Gasoline  Front-wheel drive        0.0   \n",
       "2          15.1        2018  Europe  Gasoline  Front-wheel drive        0.0   \n",
       "3          20.2        2009     USA    Diesel    All-wheel drive        2.0   \n",
       "4          14.4        2009  Europe  Gasoline    All-wheel drive        2.0   \n",
       "\n",
       "   fuel_efficiency_mpg  \n",
       "0            13.231729  \n",
       "1            13.688217  \n",
       "2            14.246341  \n",
       "3            16.912736  \n",
       "4            12.488369  "
      ]
     },
     "execution_count": 81,
     "metadata": {},
     "output_type": "execute_result"
    }
   ],
   "source": [
    "# read data\n",
    "df = pd.read_csv(\"https://raw.githubusercontent.com/alexeygrigorev/datasets/master/car_fuel_efficiency.csv\")\n",
    "\n",
    "df.head()"
   ]
  },
  {
   "cell_type": "code",
   "execution_count": 82,
   "id": "8ca42725",
   "metadata": {},
   "outputs": [
    {
     "data": {
      "text/html": [
       "<div>\n",
       "<style scoped>\n",
       "    .dataframe tbody tr th:only-of-type {\n",
       "        vertical-align: middle;\n",
       "    }\n",
       "\n",
       "    .dataframe tbody tr th {\n",
       "        vertical-align: top;\n",
       "    }\n",
       "\n",
       "    .dataframe thead th {\n",
       "        text-align: right;\n",
       "    }\n",
       "</style>\n",
       "<table border=\"1\" class=\"dataframe\">\n",
       "  <thead>\n",
       "    <tr style=\"text-align: right;\">\n",
       "      <th></th>\n",
       "      <th>engine_displacement</th>\n",
       "      <th>horsepower</th>\n",
       "      <th>vehicle_weight</th>\n",
       "      <th>model_year</th>\n",
       "      <th>fuel_efficiency_mpg</th>\n",
       "    </tr>\n",
       "  </thead>\n",
       "  <tbody>\n",
       "    <tr>\n",
       "      <th>0</th>\n",
       "      <td>170</td>\n",
       "      <td>159.0</td>\n",
       "      <td>3413.433759</td>\n",
       "      <td>2003</td>\n",
       "      <td>13.231729</td>\n",
       "    </tr>\n",
       "    <tr>\n",
       "      <th>1</th>\n",
       "      <td>130</td>\n",
       "      <td>97.0</td>\n",
       "      <td>3149.664934</td>\n",
       "      <td>2007</td>\n",
       "      <td>13.688217</td>\n",
       "    </tr>\n",
       "    <tr>\n",
       "      <th>2</th>\n",
       "      <td>170</td>\n",
       "      <td>78.0</td>\n",
       "      <td>3079.038997</td>\n",
       "      <td>2018</td>\n",
       "      <td>14.246341</td>\n",
       "    </tr>\n",
       "    <tr>\n",
       "      <th>3</th>\n",
       "      <td>220</td>\n",
       "      <td>NaN</td>\n",
       "      <td>2542.392402</td>\n",
       "      <td>2009</td>\n",
       "      <td>16.912736</td>\n",
       "    </tr>\n",
       "    <tr>\n",
       "      <th>4</th>\n",
       "      <td>210</td>\n",
       "      <td>140.0</td>\n",
       "      <td>3460.870990</td>\n",
       "      <td>2009</td>\n",
       "      <td>12.488369</td>\n",
       "    </tr>\n",
       "  </tbody>\n",
       "</table>\n",
       "</div>"
      ],
      "text/plain": [
       "   engine_displacement  horsepower  vehicle_weight  model_year  \\\n",
       "0                  170       159.0     3413.433759        2003   \n",
       "1                  130        97.0     3149.664934        2007   \n",
       "2                  170        78.0     3079.038997        2018   \n",
       "3                  220         NaN     2542.392402        2009   \n",
       "4                  210       140.0     3460.870990        2009   \n",
       "\n",
       "   fuel_efficiency_mpg  \n",
       "0            13.231729  \n",
       "1            13.688217  \n",
       "2            14.246341  \n",
       "3            16.912736  \n",
       "4            12.488369  "
      ]
     },
     "execution_count": 82,
     "metadata": {},
     "output_type": "execute_result"
    }
   ],
   "source": [
    "# We will be using the following columns for this project\n",
    "# ['engine_displacement','horsepower','vehicle_weight','model_year','fuel_efficiency_mpg']\n",
    "\n",
    "df = df[[\"engine_displacement\", \"horsepower\",\"vehicle_weight\",\"model_year\",\"fuel_efficiency_mpg\"]]\n",
    "df.head()"
   ]
  },
  {
   "cell_type": "code",
   "execution_count": 83,
   "id": "7d1988a3",
   "metadata": {},
   "outputs": [
    {
     "name": "stdout",
     "output_type": "stream",
     "text": [
      "<class 'pandas.core.frame.DataFrame'>\n",
      "RangeIndex: 9704 entries, 0 to 9703\n",
      "Data columns (total 5 columns):\n",
      " #   Column               Non-Null Count  Dtype  \n",
      "---  ------               --------------  -----  \n",
      " 0   engine_displacement  9704 non-null   int64  \n",
      " 1   horsepower           8996 non-null   float64\n",
      " 2   vehicle_weight       9704 non-null   float64\n",
      " 3   model_year           9704 non-null   int64  \n",
      " 4   fuel_efficiency_mpg  9704 non-null   float64\n",
      "dtypes: float64(3), int64(2)\n",
      "memory usage: 379.2 KB\n"
     ]
    }
   ],
   "source": [
    "# Exploratory data analysis\n",
    "df.info() # there exist missing values in `horsepower` column"
   ]
  },
  {
   "cell_type": "code",
   "execution_count": 84,
   "id": "fd1efae5",
   "metadata": {},
   "outputs": [
    {
     "data": {
      "image/png": "[encoded data removed]",
      "text/plain": [
       "<Figure size 600x400 with 1 Axes>"
      ]
     },
     "metadata": {},
     "output_type": "display_data"
    }
   ],
   "source": [
    "# Check the nature of distribution of the `Target` variable\n",
    "plt.figure(figsize = (6, 4))\n",
    "\n",
    "sns.histplot(df.fuel_efficiency_mpg, bins = 40, color= \"k\", alpha = 1)\n",
    "plt.ylabel(\"Frequency\")\n",
    "plt.xlabel(\"Fuel Efficiency (MPG)\")\n",
    "plt.title(\"Distribution of Fuel Efficiency\")\n",
    "\n",
    "plt.show() # the `Target` follows a normal distribution"
   ]
  },
  {
   "cell_type": "markdown",
   "id": "b5cd9f4f",
   "metadata": {},
   "source": [
    "#### Question 1"
   ]
  },
  {
   "cell_type": "code",
   "execution_count": 85,
   "id": "56e97d33",
   "metadata": {},
   "outputs": [
    {
     "data": {
      "text/plain": [
       "engine_displacement      0\n",
       "horsepower             708\n",
       "vehicle_weight           0\n",
       "model_year               0\n",
       "fuel_efficiency_mpg      0\n",
       "dtype: int64"
      ]
     },
     "execution_count": 85,
     "metadata": {},
     "output_type": "execute_result"
    }
   ],
   "source": [
    "df.isnull().sum()"
   ]
  },
  {
   "cell_type": "markdown",
   "id": "ef9fe798",
   "metadata": {},
   "source": [
    "# Question 2"
   ]
  },
  {
   "cell_type": "code",
   "execution_count": 86,
   "id": "14c34894",
   "metadata": {},
   "outputs": [
    {
     "name": "stdout",
     "output_type": "stream",
     "text": [
      "149.0\n"
     ]
    }
   ],
   "source": [
    "# median of the `horsepower` variable\n",
    "horsepower_median = df[\"horsepower\"].median()\n",
    "print(horsepower_median)"
   ]
  },
  {
   "cell_type": "markdown",
   "id": "88a497b6",
   "metadata": {},
   "source": [
    "#### Question 3"
   ]
  },
  {
   "cell_type": "code",
   "execution_count": 87,
   "id": "b5dc4cb1",
   "metadata": {},
   "outputs": [],
   "source": [
    "# Prepare the dataset for spliting\n",
    "np.random.seed(42) # for reproducibility\n",
    "\n",
    "n = len(df) # number of observations\n",
    "\n",
    "n_val = int(0.2 * n) # number of validation set\n",
    "n_test = int(0.2 * n) # number of test set\n",
    "n_train = n - (n_val + n_test) # number of train set\n",
    "\n",
    "idx = np.arange(n)  # a numpy array of range n\n",
    "np.random.shuffle(idx) # reoders the array randomly\n",
    "\n",
    "df_shuffled = df.iloc[idx]\n",
    "\n",
    "df_train = df_shuffled.iloc[:n_train].copy()\n",
    "df_val  = df_shuffled.iloc[n_train:n_train+n_val].copy()\n",
    "df_test = df_shuffled.iloc[n_train+n_val:].copy()\n"
   ]
  },
  {
   "cell_type": "code",
   "execution_count": 88,
   "id": "8ec255b8",
   "metadata": {},
   "outputs": [],
   "source": [
    "def fill_missing_values(df, col=\"horsepower\"):\n",
    "    # Make copies to preserve the original DataFrame\n",
    "    df_1 = df.copy()\n",
    "    df_2 = df.copy()\n",
    "\n",
    "    # Fill missing values in the specified column\n",
    "    df_1[col] = df[col].fillna(0)\n",
    "    df_2[col] = df[col].fillna(df[col].mean())\n",
    "\n",
    "    return df_1, df_2\n"
   ]
  },
  {
   "cell_type": "code",
   "execution_count": 89,
   "id": "dd1c899c",
   "metadata": {},
   "outputs": [],
   "source": [
    "df_train_1, df_train_2 = fill_missing_values(df_train)\n",
    "df_val_1, df_val_2 = fill_missing_values(df_val)\n",
    "df_test_1, df_test_2 = fill_missing_values(df_test)"
   ]
  },
  {
   "cell_type": "code",
   "execution_count": 90,
   "id": "d21e2b03",
   "metadata": {},
   "outputs": [
    {
     "data": {
      "text/html": [
       "<div>\n",
       "<style scoped>\n",
       "    .dataframe tbody tr th:only-of-type {\n",
       "        vertical-align: middle;\n",
       "    }\n",
       "\n",
       "    .dataframe tbody tr th {\n",
       "        vertical-align: top;\n",
       "    }\n",
       "\n",
       "    .dataframe thead th {\n",
       "        text-align: right;\n",
       "    }\n",
       "</style>\n",
       "<table border=\"1\" class=\"dataframe\">\n",
       "  <thead>\n",
       "    <tr style=\"text-align: right;\">\n",
       "      <th></th>\n",
       "      <th>engine_displacement</th>\n",
       "      <th>horsepower</th>\n",
       "      <th>vehicle_weight</th>\n",
       "      <th>model_year</th>\n",
       "      <th>fuel_efficiency_mpg</th>\n",
       "    </tr>\n",
       "  </thead>\n",
       "  <tbody>\n",
       "    <tr>\n",
       "      <th>483</th>\n",
       "      <td>220</td>\n",
       "      <td>144.0</td>\n",
       "      <td>2535.887591</td>\n",
       "      <td>2009</td>\n",
       "      <td>16.642943</td>\n",
       "    </tr>\n",
       "    <tr>\n",
       "      <th>7506</th>\n",
       "      <td>160</td>\n",
       "      <td>141.0</td>\n",
       "      <td>2741.170484</td>\n",
       "      <td>2019</td>\n",
       "      <td>16.298377</td>\n",
       "    </tr>\n",
       "    <tr>\n",
       "      <th>8795</th>\n",
       "      <td>230</td>\n",
       "      <td>155.0</td>\n",
       "      <td>2471.880237</td>\n",
       "      <td>2017</td>\n",
       "      <td>18.591822</td>\n",
       "    </tr>\n",
       "    <tr>\n",
       "      <th>1688</th>\n",
       "      <td>150</td>\n",
       "      <td>206.0</td>\n",
       "      <td>3748.164469</td>\n",
       "      <td>2015</td>\n",
       "      <td>11.818843</td>\n",
       "    </tr>\n",
       "    <tr>\n",
       "      <th>6217</th>\n",
       "      <td>300</td>\n",
       "      <td>111.0</td>\n",
       "      <td>2135.716359</td>\n",
       "      <td>2006</td>\n",
       "      <td>19.402209</td>\n",
       "    </tr>\n",
       "    <tr>\n",
       "      <th>...</th>\n",
       "      <td>...</td>\n",
       "      <td>...</td>\n",
       "      <td>...</td>\n",
       "      <td>...</td>\n",
       "      <td>...</td>\n",
       "    </tr>\n",
       "    <tr>\n",
       "      <th>1696</th>\n",
       "      <td>260</td>\n",
       "      <td>139.0</td>\n",
       "      <td>2606.972984</td>\n",
       "      <td>2009</td>\n",
       "      <td>16.964054</td>\n",
       "    </tr>\n",
       "    <tr>\n",
       "      <th>5685</th>\n",
       "      <td>280</td>\n",
       "      <td>132.0</td>\n",
       "      <td>4004.214323</td>\n",
       "      <td>2014</td>\n",
       "      <td>10.059094</td>\n",
       "    </tr>\n",
       "    <tr>\n",
       "      <th>6735</th>\n",
       "      <td>210</td>\n",
       "      <td>152.0</td>\n",
       "      <td>2500.175687</td>\n",
       "      <td>2020</td>\n",
       "      <td>17.593237</td>\n",
       "    </tr>\n",
       "    <tr>\n",
       "      <th>2052</th>\n",
       "      <td>250</td>\n",
       "      <td>154.0</td>\n",
       "      <td>2254.313245</td>\n",
       "      <td>2002</td>\n",
       "      <td>18.925748</td>\n",
       "    </tr>\n",
       "    <tr>\n",
       "      <th>1776</th>\n",
       "      <td>210</td>\n",
       "      <td>152.0</td>\n",
       "      <td>2435.203606</td>\n",
       "      <td>2004</td>\n",
       "      <td>17.965284</td>\n",
       "    </tr>\n",
       "  </tbody>\n",
       "</table>\n",
       "<p>5824 rows × 5 columns</p>\n",
       "</div>"
      ],
      "text/plain": [
       "      engine_displacement  horsepower  vehicle_weight  model_year  \\\n",
       "483                   220       144.0     2535.887591        2009   \n",
       "7506                  160       141.0     2741.170484        2019   \n",
       "8795                  230       155.0     2471.880237        2017   \n",
       "1688                  150       206.0     3748.164469        2015   \n",
       "6217                  300       111.0     2135.716359        2006   \n",
       "...                   ...         ...             ...         ...   \n",
       "1696                  260       139.0     2606.972984        2009   \n",
       "5685                  280       132.0     4004.214323        2014   \n",
       "6735                  210       152.0     2500.175687        2020   \n",
       "2052                  250       154.0     2254.313245        2002   \n",
       "1776                  210       152.0     2435.203606        2004   \n",
       "\n",
       "      fuel_efficiency_mpg  \n",
       "483             16.642943  \n",
       "7506            16.298377  \n",
       "8795            18.591822  \n",
       "1688            11.818843  \n",
       "6217            19.402209  \n",
       "...                   ...  \n",
       "1696            16.964054  \n",
       "5685            10.059094  \n",
       "6735            17.593237  \n",
       "2052            18.925748  \n",
       "1776            17.965284  \n",
       "\n",
       "[5824 rows x 5 columns]"
      ]
     },
     "execution_count": 90,
     "metadata": {},
     "output_type": "execute_result"
    }
   ],
   "source": [
    "df_train_2"
   ]
  },
  {
   "cell_type": "code",
   "execution_count": 91,
   "id": "1c3d372b",
   "metadata": {},
   "outputs": [],
   "source": [
    "# Create an array of the `Target` variables\n",
    "def create_target_array(df, col = \"fuel_efficiency_mpg\"):\n",
    "    y_df = df[col].values\n",
    "\n",
    "    return y_df"
   ]
  },
  {
   "cell_type": "code",
   "execution_count": 92,
   "id": "ade859b5",
   "metadata": {},
   "outputs": [
    {
     "data": {
      "text/plain": [
       "array([16.64294342, 16.29837715, 18.59182197, ..., 17.59323665,\n",
       "       18.92574819, 17.96528447], shape=(5824,))"
      ]
     },
     "execution_count": 92,
     "metadata": {},
     "output_type": "execute_result"
    }
   ],
   "source": [
    "y_train = create_target_array(df_train)\n",
    "y_val = create_target_array(df_val)\n",
    "y_test = create_target_array(df_test)\n",
    "\n",
    "y_train"
   ]
  },
  {
   "cell_type": "code",
   "execution_count": 93,
   "id": "a42b5de9",
   "metadata": {},
   "outputs": [],
   "source": [
    "# delete the `target` column from the dataset\n",
    "del df_train[\"fuel_efficiency_mpg\"]\n",
    "del df_val[\"fuel_efficiency_mpg\"]\n",
    "del df_test[\"fuel_efficiency_mpg\"]"
   ]
  },
  {
   "cell_type": "markdown",
   "id": "592f5ea9",
   "metadata": {},
   "source": [
    "### Linear Regression Using Normal Equation\n",
    "#### For a linear regresssion model, we want to find the weight vector w (and a bias b) that minimizes the mean squared error. the Normal Equation gives a direct (analytical) solution"
   ]
  },
  {
   "cell_type": "code",
   "execution_count": 94,
   "id": "065f4842",
   "metadata": {},
   "outputs": [],
   "source": [
    "def train_linear_regression(X, y):\n",
    "    ones = np.ones(X.shape[0]) # creates bias term (intercept)\n",
    "    X = np.column_stack([ones, X]) # add intercept column to X\n",
    "\n",
    "    XTX = X.T.dot(X) # compute XᵀX\n",
    "    XTX_inv = np.linalg.inv(XTX) # Compute Inverse\n",
    "    w = XTX_inv.dot(X.T).dot(y) # compute (XᵀX)⁻¹ Xᵀy\n",
    "\n",
    "    return w[0], w[1:]"
   ]
  },
  {
   "cell_type": "code",
   "execution_count": 95,
   "id": "1f83956d",
   "metadata": {},
   "outputs": [],
   "source": [
    "X_train_1 = df_train_1.values\n",
    "X_val_1= df_val_1.values\n",
    "x_test_1 = df_test_1.values\n",
    "\n",
    "w_0, w = train_linear_regression(X= X_train_1, y = y_train)"
   ]
  },
  {
   "cell_type": "code",
   "execution_count": 96,
   "id": "16e8b250",
   "metadata": {},
   "outputs": [
    {
     "data": {
      "text/plain": [
       "array([15.36634109, 14.60118181, 12.24703219, ..., 13.61312692,\n",
       "       13.73334321, 15.81604972], shape=(1940,))"
      ]
     },
     "execution_count": 96,
     "metadata": {},
     "output_type": "execute_result"
    }
   ],
   "source": [
    "# Prediction\n",
    "y_pred = w_0 + X_val_1.dot(w)\n",
    "y_pred"
   ]
  },
  {
   "cell_type": "code",
   "execution_count": 97,
   "id": "aec75a6a",
   "metadata": {},
   "outputs": [
    {
     "data": {
      "image/png": "[encoded data removed]",
      "text/plain": [
       "<Figure size 1000x900 with 1 Axes>"
      ]
     },
     "metadata": {},
     "output_type": "display_data"
    }
   ],
   "source": [
    "plt.figure(figsize = (10,9))\n",
    "\n",
    "sns.histplot(y_val, label = \"Target\", color ='#222222',alpha= 0.8, bins = 40)\n",
    "sns.histplot(y_pred, label = \"Prediction\", color = '#aaaaaa', alpha = 0.6, bins = 40) \n",
    "\n",
    "plt.legend()\n",
    "\n",
    "plt.ylabel(\"Frequency\")\n",
    "plt.xlabel(\"Fuel Efficiency\")\n",
    "plt.title(\"Actual Vs Prediction Distribution\")\n",
    "\n",
    "plt.show()"
   ]
  },
  {
   "cell_type": "code",
   "execution_count": 98,
   "id": "84ba1d9b",
   "metadata": {},
   "outputs": [],
   "source": [
    "# Calculate error\n",
    "def rmse(y, y_pred):\n",
    "    error = y_pred - y\n",
    "    mse = (error ** 2).mean()\n",
    "\n",
    "    return np.sqrt(mse)"
   ]
  },
  {
   "cell_type": "code",
   "execution_count": 99,
   "id": "f523e2e3",
   "metadata": {},
   "outputs": [
    {
     "name": "stdout",
     "output_type": "stream",
     "text": [
      "1.2e-10\n"
     ]
    }
   ],
   "source": [
    "print(rmse(y_val, y_pred).round(11))"
   ]
  },
  {
   "cell_type": "code",
   "execution_count": 100,
   "id": "12495c63",
   "metadata": {},
   "outputs": [],
   "source": [
    "# for mean value filling\n",
    "X_train_2 = df_train_2.values\n",
    "x_val_2 = df_val_2.values\n",
    "x_test_2 = df_test_2.values"
   ]
  },
  {
   "cell_type": "code",
   "execution_count": 101,
   "id": "6ae70d0a",
   "metadata": {},
   "outputs": [],
   "source": [
    "b_0, b = train_linear_regression(X_train_2, y_train)"
   ]
  },
  {
   "cell_type": "code",
   "execution_count": 102,
   "id": "86fd5d52",
   "metadata": {},
   "outputs": [],
   "source": [
    "y_pred = b_0 + x_val_2.dot(b)"
   ]
  },
  {
   "cell_type": "code",
   "execution_count": 103,
   "id": "8931ee1c",
   "metadata": {},
   "outputs": [
    {
     "name": "stdout",
     "output_type": "stream",
     "text": [
      "2.9358722720957924e-10\n"
     ]
    }
   ],
   "source": [
    "print(rmse(y_val, y_pred))"
   ]
  },
  {
   "cell_type": "markdown",
   "id": "f37fb448",
   "metadata": {},
   "source": [
    "#### Question 4"
   ]
  },
  {
   "cell_type": "markdown",
   "id": "4bbdcb9d",
   "metadata": {},
   "source": [
    "### Regularization"
   ]
  },
  {
   "cell_type": "code",
   "execution_count": 104,
   "id": "c0de5a49",
   "metadata": {},
   "outputs": [],
   "source": [
    "def train_linear_regression_reg(X, y , r):\n",
    "    ones = np.ones(X.shape[0])\n",
    "    X = np.column_stack([ones, X])\n",
    "\n",
    "    XTX = X.T.dot(X)\n",
    "    reg = r * np.eye(XTX.shape[0])\n",
    "    XTX = XTX + reg\n",
    "\n",
    "    XTX_inv = np.linalg.inv(XTX)\n",
    "    w = XTX_inv.dot(X.T).dot(y)\n",
    "\n",
    "    return w[0], w[1:]"
   ]
  },
  {
   "cell_type": "code",
   "execution_count": 105,
   "id": "1d01ed75",
   "metadata": {},
   "outputs": [],
   "source": [
    "W_0, W = train_linear_regression_reg(X_train_1, y_train, r = 0)"
   ]
  },
  {
   "cell_type": "code",
   "execution_count": 106,
   "id": "a39c73ee",
   "metadata": {},
   "outputs": [],
   "source": [
    "y_pred = W_0 + X_val_1.dot(W)\n"
   ]
  },
  {
   "cell_type": "code",
   "execution_count": 107,
   "id": "004dfe50",
   "metadata": {},
   "outputs": [
    {
     "name": "stdout",
     "output_type": "stream",
     "text": [
      "1.1802679318480694e-10\n"
     ]
    }
   ],
   "source": [
    "print(rmse(y_val, y_pred))"
   ]
  },
  {
   "cell_type": "markdown",
   "id": "94b32f4e",
   "metadata": {},
   "source": []
  },
  {
   "cell_type": "markdown",
   "id": "47026249",
   "metadata": {},
   "source": [
    "#### Question 5"
   ]
  },
  {
   "cell_type": "code",
   "execution_count": null,
   "id": "f0e3da19",
   "metadata": {},
   "outputs": [],
   "source": [
    "def evaluate_seeds(df, target_col):\n",
    "    rmse_values = []  # changed from RMSE = []\n",
    "    seeds = [0, 1, 2, 3, 4, 5, 6, 7, 8, 9]\n",
    "\n",
    "    for value in seeds:\n",
    "        np.random.seed(value)\n",
    "\n",
    "        n = len(df)\n",
    "        n_val = int(0.2 * n)\n",
    "        n_test = int(0.2 * n)\n",
    "        n_train = n - (n_val + n_test)\n",
    "\n",
    "        idx = np.arange(n)\n",
    "        np.random.shuffle(idx)\n",
    "        df_shuffled = df.iloc[idx]\n",
    "\n",
    "        df_train = df_shuffled.iloc[:n_train].copy()\n",
    "        df_val = df_shuffled.iloc[n_train:n_train + n_val].copy()\n",
    "        df_test = df_shuffled.iloc[n_train + n_val:].copy()\n",
    "\n",
    "        df_train = df_train.fillna(0)\n",
    "        df_val = df_val.fillna(0)\n",
    "        df_test = df_test.fillna(0)\n",
    "\n",
    "        X_train = df_train.drop(columns=[target_col]).values\n",
    "        y_train = df_train[target_col].values\n",
    "\n",
    "        X_val = df_val.drop(columns=[target_col]).values\n",
    "        y_val = df_val[target_col].values\n",
    "\n",
    "        X_test = df_test.drop(columns=[target_col]).values\n",
    "        y_test = df_test[target_col].values\n",
    "\n",
    "        b_0, b = train_linear_regression(X_train, y_train)\n",
    "\n",
    "        y_pred = b_0 + X_val.dot(b)\n",
    "\n",
    "        # Use rmse() function properly\n",
    "        rmse_values.append(rmse(y_val, y_pred))\n",
    "\n",
    "    return rmse_values\n"
   ]
  },
  {
   "cell_type": "code",
   "execution_count": 111,
   "id": "f44e9515",
   "metadata": {},
   "outputs": [
    {
     "name": "stdout",
     "output_type": "stream",
     "text": [
      "0.007\n"
     ]
    }
   ],
   "source": [
    "rmse_results = evaluate_seeds(df, \"fuel_efficiency_mpg\")\n",
    "print(np.std(np.array(rmse_results)).round(3))\n"
   ]
  },
  {
   "cell_type": "markdown",
   "id": "d3c112c3",
   "metadata": {},
   "source": []
  },
  {
   "cell_type": "markdown",
   "id": "16f5df36",
   "metadata": {},
   "source": [
    "#### Question 6"
   ]
  },
  {
   "cell_type": "code",
   "execution_count": 117,
   "id": "974ac69a",
   "metadata": {},
   "outputs": [
    {
     "name": "stdout",
     "output_type": "stream",
     "text": [
      "Final RMSE on Test Set: 0.516\n"
     ]
    }
   ],
   "source": [
    "# seed for reproducibility\n",
    "np.random.seed(9)\n",
    "\n",
    "n = len(df)\n",
    "n_val = int(0.2 * n)\n",
    "n_test = int(0.2 * n)\n",
    "n_train = n - (n_val + n_test)\n",
    "\n",
    "idx = np.arange(n)\n",
    "np.random.shuffle(idx)\n",
    "df_shuffled = df.iloc[idx]\n",
    "\n",
    "# Split\n",
    "df_train = df_shuffled.iloc[:n_train].copy()\n",
    "df_val = df_shuffled.iloc[n_train:n_train + n_val].copy()\n",
    "df_test = df_shuffled.iloc[n_train + n_val:].copy()\n",
    "\n",
    "# Fill missing values\n",
    "df_train = df_train.fillna(0)\n",
    "df_val = df_val.fillna(0)\n",
    "df_test = df_test.fillna(0)\n",
    "\n",
    "# Combine training and validation sets\n",
    "df_full_train = pd.concat([df_train, df_val]).reset_index(drop=True)\n",
    "\n",
    "# Define target column\n",
    "target_col = \"fuel_efficiency_mpg\"\n",
    "\n",
    "# Separate features and target\n",
    "X_full_train = df_full_train.drop(columns=[target_col]).values\n",
    "y_full_train = df_full_train[target_col].values\n",
    "\n",
    "X_test = df_test.drop(columns=[target_col]).values\n",
    "y_test = df_test[target_col].values\n",
    "\n",
    "# Train final model\n",
    "b_0, b = train_linear_regression_reg(X_full_train, y_full_train, r = 0.001)\n",
    "\n",
    "# Predict on test set\n",
    "y_pred_test = b_0 + X_test.dot(b)\n",
    "\n",
    "# Evaluate RMSE on test set\n",
    "final_rmse = rmse(y_test, y_pred_test)\n",
    "print(\"Final RMSE on Test Set:\", final_rmse.round(3))\n"
   ]
  },
  {
   "cell_type": "code",
   "execution_count": null,
   "id": "becf883e",
   "metadata": {},
   "outputs": [],
   "source": []
  }
 ],
 "metadata": {
  "kernelspec": {
   "display_name": "Python 3",
   "language": "python",
   "name": "python3"
  },
  "language_info": {
   "codemirror_mode": {
    "name": "ipython",
    "version": 3
   },
   "file_extension": ".py",
   "mimetype": "text/x-python",
   "name": "python",
   "nbconvert_exporter": "python",
   "pygments_lexer": "ipython3",
   "version": "3.12.1"
  }
 },
 "nbformat": 4,
 "nbformat_minor": 5
}
